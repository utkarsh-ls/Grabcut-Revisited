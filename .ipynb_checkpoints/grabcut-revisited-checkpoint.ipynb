{
 "cells": [
  {
   "cell_type": "code",
   "execution_count": 1,
   "metadata": {},
   "outputs": [],
   "source": [
    "from run import sim\n",
    "import constants"
   ]
  },
  {
   "cell_type": "code",
   "execution_count": 2,
   "metadata": {
    "pycharm": {
     "name": "#%%\n"
    }
   },
   "outputs": [
    {
     "name": "stdout",
     "output_type": "stream",
     "text": [
      "||grabcut STARTED||\n",
      "Number of iterations: 1\n",
      "||grabcut ENDED in 2.85 sec||\n",
      "||grabcut STARTED||\n",
      "Number of iterations: 1\n",
      "||grabcut ENDED in 2.63 sec||\n",
      "||grabcut STARTED||\n",
      "Number of iterations: 1\n",
      "||grabcut ENDED in 2.5 sec||\n",
      "||grabcut STARTED||\n",
      "Number of iterations: 1\n",
      "||grabcut ENDED in 2.5 sec||\n"
     ]
    }
   ],
   "source": [
    "sim()"
   ]
  },
  {
   "cell_type": "markdown",
   "metadata": {},
   "source": [
    "# Experiments"
   ]
  },
  {
   "cell_type": "markdown",
   "metadata": {},
   "source": [
    "### Loading testset"
   ]
  },
  {
   "cell_type": "code",
   "execution_count": 4,
   "metadata": {},
   "outputs": [
    {
     "data": {
      "text/plain": [
       "['./images\\\\singer.jpg',\n",
       " './images\\\\owl.jpg',\n",
       " './images\\\\mirroredlady.jpg',\n",
       " './images\\\\bicycleblurred.jpg',\n",
       " './images\\\\pinkaeroplane.jpg',\n",
       " './images\\\\coconut.jpg',\n",
       " './images\\\\aeroplane.jpg']"
      ]
     },
     "execution_count": 4,
     "metadata": {},
     "output_type": "execute_result"
    }
   ],
   "source": [
    "import glob\n",
    "images = glob.glob(\"./images/*.jpg\")\n",
    "images"
   ]
  },
  {
   "cell_type": "markdown",
   "metadata": {},
   "source": [
    "## User-interactivity\n",
    "\n",
    "The following are the results when a user specifies some portion to be background/ foreground and (re-)fits the model."
   ]
  },
  {
   "cell_type": "code",
   "execution_count": 5,
   "metadata": {
    "pycharm": {
     "name": "#%%\n"
    }
   },
   "outputs": [
    {
     "name": "stdout",
     "output_type": "stream",
     "text": [
      "||grabcut STARTED||\n",
      "Number of iterations: 1\n"
     ]
    },
    {
     "name": "stderr",
     "output_type": "stream",
     "text": [
      "\\\\wsl$\\Ubuntu-20.04\\home\\therojjha\\repos\\Grabcut-Revisited\\grabcut.py:104: RuntimeWarning: divide by zero encountered in log\n",
      "  single_to_many_update(self.source, pr_nodes, -np.log(bg_scores))\n"
     ]
    },
    {
     "name": "stdout",
     "output_type": "stream",
     "text": [
      "||grabcut ENDED in 7.88 sec||\n",
      "||grabcut STARTED||\n",
      "Number of iterations: 1\n"
     ]
    },
    {
     "name": "stderr",
     "output_type": "stream",
     "text": [
      "\\\\wsl$\\Ubuntu-20.04\\home\\therojjha\\repos\\Grabcut-Revisited\\grabcut.py:104: RuntimeWarning: divide by zero encountered in log\n",
      "  single_to_many_update(self.source, pr_nodes, -np.log(bg_scores))\n"
     ]
    },
    {
     "name": "stdout",
     "output_type": "stream",
     "text": [
      "||grabcut ENDED in 7.43 sec||\n"
     ]
    }
   ],
   "source": [
    "sim(images[1])"
   ]
  },
  {
   "cell_type": "code",
   "execution_count": 4,
   "metadata": {},
   "outputs": [
    {
     "name": "stdout",
     "output_type": "stream",
     "text": [
      "||grabcut STARTED||\n",
      "Number of iterations: 1\n",
      "||grabcut ENDED in 2.75 sec||\n"
     ]
    }
   ],
   "source": [
    "sim(images[-2])"
   ]
  },
  {
   "cell_type": "code",
   "execution_count": 6,
   "metadata": {},
   "outputs": [
    {
     "name": "stdout",
     "output_type": "stream",
     "text": [
      "||grabcut STARTED||\n",
      "Number of iterations: 1\n"
     ]
    },
    {
     "name": "stderr",
     "output_type": "stream",
     "text": [
      "\\\\wsl$\\Ubuntu-20.04\\home\\therojjha\\repos\\Grabcut-Revisited\\grabcut.py:104: RuntimeWarning: divide by zero encountered in log\n",
      "  single_to_many_update(self.source, pr_nodes, -np.log(bg_scores))\n"
     ]
    },
    {
     "name": "stdout",
     "output_type": "stream",
     "text": [
      "||grabcut ENDED in 0.83 sec||\n"
     ]
    }
   ],
   "source": [
    "sim(images[-1])"
   ]
  },
  {
   "cell_type": "code",
   "execution_count": 7,
   "metadata": {},
   "outputs": [
    {
     "name": "stdout",
     "output_type": "stream",
     "text": [
      "||grabcut STARTED||\n",
      "Number of iterations: 1\n",
      "||grabcut ENDED in 0.75 sec||\n",
      "||grabcut STARTED||\n",
      "Number of iterations: 1\n"
     ]
    },
    {
     "name": "stderr",
     "output_type": "stream",
     "text": [
      "\\\\wsl$\\Ubuntu-20.04\\home\\therojjha\\repos\\Grabcut-Revisited\\grabcut.py:104: RuntimeWarning: divide by zero encountered in log\n",
      "  single_to_many_update(self.source, pr_nodes, -np.log(bg_scores))\n",
      "\\\\wsl$\\Ubuntu-20.04\\home\\therojjha\\repos\\Grabcut-Revisited\\grabcut.py:117: RuntimeWarning: divide by zero encountered in log\n",
      "  single_to_many_update(self.sink, pr_nodes, -np.log(fg_scores))\n"
     ]
    },
    {
     "name": "stdout",
     "output_type": "stream",
     "text": [
      "||grabcut ENDED in 0.58 sec||\n",
      "||grabcut STARTED||\n",
      "Number of iterations: 1\n"
     ]
    },
    {
     "name": "stderr",
     "output_type": "stream",
     "text": [
      "\\\\wsl$\\Ubuntu-20.04\\home\\therojjha\\repos\\Grabcut-Revisited\\grabcut.py:117: RuntimeWarning: divide by zero encountered in log\n",
      "  single_to_many_update(self.sink, pr_nodes, -np.log(fg_scores))\n"
     ]
    },
    {
     "name": "stdout",
     "output_type": "stream",
     "text": [
      "||grabcut ENDED in 0.71 sec||\n"
     ]
    }
   ],
   "source": [
    "sim(images[-3])"
   ]
  },
  {
   "cell_type": "markdown",
   "metadata": {},
   "source": [
    "## Gamma values"
   ]
  },
  {
   "cell_type": "code",
   "execution_count": 11,
   "metadata": {
    "pycharm": {
     "name": "#%%\n"
    }
   },
   "outputs": [],
   "source": [
    "gamma_values = [3,15,30,50,100]"
   ]
  },
  {
   "cell_type": "code",
   "execution_count": 13,
   "metadata": {},
   "outputs": [
    {
     "name": "stdout",
     "output_type": "stream",
     "text": [
      "Gamma=3\n",
      "Gamma=9\n",
      "Gamma=15\n",
      "Gamma=30\n",
      "||grabcut STARTED||\n",
      "Number of iterations: 1\n",
      "||grabcut ENDED in 2.45 sec||\n",
      "||grabcut STARTED||\n",
      "Number of iterations: 1\n",
      "||grabcut ENDED in 2.38 sec||\n",
      "Gamma=50\n",
      "Gamma=100\n",
      "||grabcut STARTED||\n",
      "Number of iterations: 1\n",
      "||grabcut ENDED in 2.69 sec||\n",
      "||grabcut STARTED||\n",
      "Number of iterations: 1\n",
      "||grabcut ENDED in 2.28 sec||\n"
     ]
    }
   ],
   "source": [
    "for gamma in gamma_values:\n",
    "    print(f\"Gamma={gamma}\")\n",
    "    constants.GAMMA = gamma\n",
    "    sim()"
   ]
  },
  {
   "cell_type": "code",
   "execution_count": 14,
   "metadata": {},
   "outputs": [],
   "source": [
    "constants.GAMMA=50"
   ]
  },
  {
   "cell_type": "markdown",
   "metadata": {},
   "source": [
    "##  Neighbour Connectivity for Similarity Computation"
   ]
  },
  {
   "cell_type": "markdown",
   "metadata": {},
   "source": [
    "### Horizontal 2-connectivity"
   ]
  },
  {
   "cell_type": "code",
   "execution_count": 15,
   "metadata": {
    "pycharm": {
     "name": "#%%\n"
    }
   },
   "outputs": [],
   "source": [
    "constants.ROW=True\n",
    "constants.COL=False\n",
    "constants.LD=False\n",
    "constants.RD=False"
   ]
  },
  {
   "cell_type": "code",
   "execution_count": 16,
   "metadata": {},
   "outputs": [
    {
     "name": "stdout",
     "output_type": "stream",
     "text": [
      "||grabcut STARTED||\n",
      "Number of iterations: 1\n",
      "||grabcut ENDED in 4.0 sec||\n",
      "||grabcut STARTED||\n",
      "Number of iterations: 1\n"
     ]
    },
    {
     "name": "stderr",
     "output_type": "stream",
     "text": [
      "\\\\wsl$\\Ubuntu-20.04\\home\\therojjha\\repos\\Grabcut-Revisited\\grabcut.py:104: RuntimeWarning: divide by zero encountered in log\n",
      "  single_to_many_update(self.source, pr_nodes, -np.log(bg_scores))\n"
     ]
    },
    {
     "name": "stdout",
     "output_type": "stream",
     "text": [
      "||grabcut ENDED in 12.07 sec||\n",
      "||grabcut STARTED||\n",
      "Number of iterations: 1\n"
     ]
    },
    {
     "name": "stderr",
     "output_type": "stream",
     "text": [
      "\\\\wsl$\\Ubuntu-20.04\\home\\therojjha\\repos\\Grabcut-Revisited\\grabcut.py:104: RuntimeWarning: divide by zero encountered in log\n",
      "  single_to_many_update(self.source, pr_nodes, -np.log(bg_scores))\n"
     ]
    },
    {
     "name": "stdout",
     "output_type": "stream",
     "text": [
      "||grabcut ENDED in 8.1 sec||\n",
      "||grabcut STARTED||\n",
      "Number of iterations: 1\n"
     ]
    },
    {
     "name": "stderr",
     "output_type": "stream",
     "text": [
      "\\\\wsl$\\Ubuntu-20.04\\home\\therojjha\\repos\\Grabcut-Revisited\\grabcut.py:104: RuntimeWarning: divide by zero encountered in log\n",
      "  single_to_many_update(self.source, pr_nodes, -np.log(bg_scores))\n"
     ]
    },
    {
     "name": "stdout",
     "output_type": "stream",
     "text": [
      "||grabcut ENDED in 8.31 sec||\n",
      "||grabcut STARTED||\n",
      "Number of iterations: 1\n"
     ]
    },
    {
     "name": "stderr",
     "output_type": "stream",
     "text": [
      "\\\\wsl$\\Ubuntu-20.04\\home\\therojjha\\repos\\Grabcut-Revisited\\grabcut.py:104: RuntimeWarning: divide by zero encountered in log\n",
      "  single_to_many_update(self.source, pr_nodes, -np.log(bg_scores))\n"
     ]
    },
    {
     "name": "stdout",
     "output_type": "stream",
     "text": [
      "||grabcut ENDED in 8.14 sec||\n",
      "||grabcut STARTED||\n",
      "Number of iterations: 1\n"
     ]
    },
    {
     "name": "stderr",
     "output_type": "stream",
     "text": [
      "\\\\wsl$\\Ubuntu-20.04\\home\\therojjha\\repos\\Grabcut-Revisited\\grabcut.py:104: RuntimeWarning: divide by zero encountered in log\n",
      "  single_to_many_update(self.source, pr_nodes, -np.log(bg_scores))\n"
     ]
    },
    {
     "name": "stdout",
     "output_type": "stream",
     "text": [
      "||grabcut ENDED in 0.54 sec||\n"
     ]
    }
   ],
   "source": [
    "for image in images:\n",
    "    sim(image)"
   ]
  },
  {
   "cell_type": "markdown",
   "metadata": {},
   "source": [
    "### Vertical 2-connectivity"
   ]
  },
  {
   "cell_type": "code",
   "execution_count": 17,
   "metadata": {},
   "outputs": [],
   "source": [
    "constants.ROW=False\n",
    "constants.COL=True\n",
    "constants.LD=False\n",
    "constants.RD=False"
   ]
  },
  {
   "cell_type": "code",
   "execution_count": 18,
   "metadata": {},
   "outputs": [
    {
     "name": "stdout",
     "output_type": "stream",
     "text": [
      "||grabcut STARTED||\n",
      "Number of iterations: 1\n"
     ]
    },
    {
     "name": "stderr",
     "output_type": "stream",
     "text": [
      "\\\\wsl$\\Ubuntu-20.04\\home\\therojjha\\repos\\Grabcut-Revisited\\grabcut.py:104: RuntimeWarning: divide by zero encountered in log\n",
      "  single_to_many_update(self.source, pr_nodes, -np.log(bg_scores))\n"
     ]
    },
    {
     "name": "stdout",
     "output_type": "stream",
     "text": [
      "||grabcut ENDED in 40.35 sec||\n",
      "||grabcut STARTED||\n",
      "Number of iterations: 1\n"
     ]
    },
    {
     "name": "stderr",
     "output_type": "stream",
     "text": [
      "\\\\wsl$\\Ubuntu-20.04\\home\\therojjha\\repos\\Grabcut-Revisited\\grabcut.py:104: RuntimeWarning: divide by zero encountered in log\n",
      "  single_to_many_update(self.source, pr_nodes, -np.log(bg_scores))\n"
     ]
    },
    {
     "name": "stdout",
     "output_type": "stream",
     "text": [
      "||grabcut ENDED in 31.37 sec||\n",
      "||grabcut STARTED||\n",
      "Number of iterations: 1\n"
     ]
    },
    {
     "name": "stderr",
     "output_type": "stream",
     "text": [
      "\\\\wsl$\\Ubuntu-20.04\\home\\therojjha\\repos\\Grabcut-Revisited\\grabcut.py:104: RuntimeWarning: divide by zero encountered in log\n",
      "  single_to_many_update(self.source, pr_nodes, -np.log(bg_scores))\n"
     ]
    },
    {
     "name": "stdout",
     "output_type": "stream",
     "text": [
      "||grabcut ENDED in 19.26 sec||\n"
     ]
    }
   ],
   "source": [
    "for image in images:\n",
    "    sim(image)"
   ]
  },
  {
   "cell_type": "markdown",
   "metadata": {},
   "source": [
    "### 4-connectivity"
   ]
  },
  {
   "cell_type": "code",
   "execution_count": 19,
   "metadata": {},
   "outputs": [],
   "source": [
    "constants.ROW=True\n",
    "constants.COL=True\n",
    "constants.LD=False\n",
    "constants.RD=False"
   ]
  },
  {
   "cell_type": "code",
   "execution_count": 20,
   "metadata": {},
   "outputs": [
    {
     "name": "stdout",
     "output_type": "stream",
     "text": [
      "||grabcut STARTED||\n",
      "Number of iterations: 1\n",
      "||grabcut ENDED in 2.74 sec||\n",
      "||grabcut STARTED||\n",
      "Number of iterations: 1\n",
      "||grabcut ENDED in 2.4 sec||\n",
      "||grabcut STARTED||\n",
      "Number of iterations: 1\n",
      "||grabcut ENDED in 2.42 sec||\n",
      "||grabcut STARTED||\n",
      "Number of iterations: 1\n"
     ]
    },
    {
     "name": "stderr",
     "output_type": "stream",
     "text": [
      "\\\\wsl$\\Ubuntu-20.04\\home\\therojjha\\repos\\Grabcut-Revisited\\grabcut.py:104: RuntimeWarning: divide by zero encountered in log\n",
      "  single_to_many_update(self.source, pr_nodes, -np.log(bg_scores))\n"
     ]
    },
    {
     "name": "stdout",
     "output_type": "stream",
     "text": [
      "||grabcut ENDED in 10.2 sec||\n",
      "||grabcut STARTED||\n",
      "Number of iterations: 1\n"
     ]
    },
    {
     "name": "stderr",
     "output_type": "stream",
     "text": [
      "\\\\wsl$\\Ubuntu-20.04\\home\\therojjha\\repos\\Grabcut-Revisited\\grabcut.py:104: RuntimeWarning: divide by zero encountered in log\n",
      "  single_to_many_update(self.source, pr_nodes, -np.log(bg_scores))\n"
     ]
    },
    {
     "name": "stdout",
     "output_type": "stream",
     "text": [
      "||grabcut ENDED in 6.86 sec||\n",
      "||grabcut STARTED||\n",
      "Number of iterations: 1\n"
     ]
    },
    {
     "name": "stderr",
     "output_type": "stream",
     "text": [
      "\\\\wsl$\\Ubuntu-20.04\\home\\therojjha\\repos\\Grabcut-Revisited\\grabcut.py:104: RuntimeWarning: divide by zero encountered in log\n",
      "  single_to_many_update(self.source, pr_nodes, -np.log(bg_scores))\n"
     ]
    },
    {
     "name": "stdout",
     "output_type": "stream",
     "text": [
      "||grabcut ENDED in 5.92 sec||\n"
     ]
    }
   ],
   "source": [
    "for image in images:\n",
    "    sim(image)"
   ]
  },
  {
   "cell_type": "markdown",
   "metadata": {},
   "source": [
    "### 8-connectivity"
   ]
  },
  {
   "cell_type": "code",
   "execution_count": 25,
   "metadata": {},
   "outputs": [],
   "source": [
    "constants.ROW=True\n",
    "constants.COL=True\n",
    "constants.LD=True\n",
    "constants.RD=True"
   ]
  },
  {
   "cell_type": "code",
   "execution_count": 26,
   "metadata": {
    "scrolled": true
   },
   "outputs": [
    {
     "name": "stdout",
     "output_type": "stream",
     "text": [
      "||grabcut STARTED||\n",
      "Number of iterations: 1\n",
      "||grabcut ENDED in 2.23 sec||\n",
      "||grabcut STARTED||\n",
      "Number of iterations: 1\n",
      "||grabcut ENDED in 2.09 sec||\n",
      "||grabcut STARTED||\n",
      "Number of iterations: 1\n",
      "||grabcut ENDED in 2.02 sec||\n",
      "||grabcut STARTED||\n",
      "Number of iterations: 1\n",
      "||grabcut ENDED in 2.11 sec||\n"
     ]
    }
   ],
   "source": [
    "for image in images:\n",
    "    sim(image)"
   ]
  },
  {
   "cell_type": "markdown",
   "metadata": {},
   "source": [
    "## Number of Components in GMM"
   ]
  },
  {
   "cell_type": "code",
   "execution_count": 2,
   "metadata": {
    "pycharm": {
     "name": "#%%\n"
    }
   },
   "outputs": [],
   "source": [
    "num_gmm_components = [1,3,5,7,10,15]"
   ]
  },
  {
   "cell_type": "code",
   "execution_count": 29,
   "metadata": {},
   "outputs": [
    {
     "name": "stdout",
     "output_type": "stream",
     "text": [
      "Number of components in GMM: 1\n",
      "||grabcut STARTED||\n",
      "Number of iterations: 1\n",
      "||grabcut ENDED in 2.07 sec||\n",
      "Number of components in GMM: 3\n",
      "||grabcut STARTED||\n",
      "Number of iterations: 1\n",
      "||grabcut ENDED in 2.04 sec||\n",
      "Number of components in GMM: 5\n",
      "||grabcut STARTED||\n",
      "Number of iterations: 1\n",
      "||grabcut ENDED in 2.21 sec||\n",
      "Number of components in GMM: 7\n",
      "||grabcut STARTED||\n",
      "Number of iterations: 1\n",
      "||grabcut ENDED in 2.51 sec||\n",
      "Number of components in GMM: 10\n",
      "||grabcut STARTED||\n",
      "Number of iterations: 1\n",
      "||grabcut ENDED in 2.79 sec||\n",
      "Number of components in GMM: 15\n",
      "||grabcut STARTED||\n",
      "Number of iterations: 1\n",
      "||grabcut ENDED in 3.21 sec||\n"
     ]
    }
   ],
   "source": [
    "for gmm in num_gmm_components:\n",
    "    constants.GMM_COMPONENTS = gmm\n",
    "    print(f\"Number of components in GMM: {gmm}\")\n",
    "    sim()"
   ]
  },
  {
   "cell_type": "code",
   "execution_count": 5,
   "metadata": {},
   "outputs": [
    {
     "name": "stdout",
     "output_type": "stream",
     "text": [
      "Number of components in GMM: 1\n",
      "Number of components in GMM: 3\n",
      "Number of components in GMM: 5\n",
      "||grabcut STARTED||\n",
      "Number of iterations: 1\n"
     ]
    },
    {
     "name": "stderr",
     "output_type": "stream",
     "text": [
      "\\\\wsl$\\Ubuntu-20.04\\home\\therojjha\\repos\\Grabcut-Revisited\\grabcut.py:104: RuntimeWarning: divide by zero encountered in log\n",
      "  single_to_many_update(self.source, pr_nodes, -np.log(bg_scores))\n"
     ]
    },
    {
     "name": "stdout",
     "output_type": "stream",
     "text": [
      "||grabcut ENDED in 8.06 sec||\n",
      "Number of components in GMM: 7\n",
      "||grabcut STARTED||\n",
      "Number of iterations: 1\n"
     ]
    },
    {
     "name": "stderr",
     "output_type": "stream",
     "text": [
      "\\\\wsl$\\Ubuntu-20.04\\home\\therojjha\\repos\\Grabcut-Revisited\\grabcut.py:104: RuntimeWarning: divide by zero encountered in log\n",
      "  single_to_many_update(self.source, pr_nodes, -np.log(bg_scores))\n"
     ]
    },
    {
     "name": "stdout",
     "output_type": "stream",
     "text": [
      "||grabcut ENDED in 9.76 sec||\n",
      "Number of components in GMM: 10\n",
      "||grabcut STARTED||\n",
      "Number of iterations: 1\n"
     ]
    },
    {
     "name": "stderr",
     "output_type": "stream",
     "text": [
      "\\\\wsl$\\Ubuntu-20.04\\home\\therojjha\\repos\\Grabcut-Revisited\\grabcut.py:104: RuntimeWarning: divide by zero encountered in log\n",
      "  single_to_many_update(self.source, pr_nodes, -np.log(bg_scores))\n"
     ]
    },
    {
     "name": "stdout",
     "output_type": "stream",
     "text": [
      "||grabcut ENDED in 9.21 sec||\n",
      "Number of components in GMM: 15\n",
      "||grabcut STARTED||\n",
      "Number of iterations: 1\n"
     ]
    },
    {
     "name": "stderr",
     "output_type": "stream",
     "text": [
      "\\\\wsl$\\Ubuntu-20.04\\home\\therojjha\\repos\\Grabcut-Revisited\\grabcut.py:104: RuntimeWarning: divide by zero encountered in log\n",
      "  single_to_many_update(self.source, pr_nodes, -np.log(bg_scores))\n"
     ]
    },
    {
     "name": "stdout",
     "output_type": "stream",
     "text": [
      "||grabcut ENDED in 10.64 sec||\n",
      "||grabcut STARTED||\n",
      "Number of iterations: 1\n"
     ]
    },
    {
     "name": "stderr",
     "output_type": "stream",
     "text": [
      "\\\\wsl$\\Ubuntu-20.04\\home\\therojjha\\repos\\Grabcut-Revisited\\gmm.py:24: RuntimeWarning: overflow encountered in exp\n",
      "  score = np.exp(-Σ/2) / (np.sqrt(2 * np.pi * np.linalg.det(self.covariance[c_i])))\n",
      "\\\\wsl$\\Ubuntu-20.04\\home\\therojjha\\repos\\Grabcut-Revisited\\gmm.py:24: RuntimeWarning: overflow encountered in true_divide\n",
      "  score = np.exp(-Σ/2) / (np.sqrt(2 * np.pi * np.linalg.det(self.covariance[c_i])))\n",
      "\\\\wsl$\\Ubuntu-20.04\\home\\therojjha\\repos\\Grabcut-Revisited\\grabcut.py:104: RuntimeWarning: divide by zero encountered in log\n",
      "  single_to_many_update(self.source, pr_nodes, -np.log(bg_scores))\n"
     ]
    },
    {
     "name": "stdout",
     "output_type": "stream",
     "text": [
      "||grabcut ENDED in 8.74 sec||\n",
      "||grabcut STARTED||\n",
      "Number of iterations: 1\n"
     ]
    },
    {
     "name": "stderr",
     "output_type": "stream",
     "text": [
      "\\\\wsl$\\Ubuntu-20.04\\home\\therojjha\\repos\\Grabcut-Revisited\\grabcut.py:104: RuntimeWarning: divide by zero encountered in log\n",
      "  single_to_many_update(self.source, pr_nodes, -np.log(bg_scores))\n"
     ]
    },
    {
     "name": "stdout",
     "output_type": "stream",
     "text": [
      "||grabcut ENDED in 9.6 sec||\n",
      "||grabcut STARTED||\n",
      "Number of iterations: 1\n"
     ]
    },
    {
     "name": "stderr",
     "output_type": "stream",
     "text": [
      "\\\\wsl$\\Ubuntu-20.04\\home\\therojjha\\repos\\Grabcut-Revisited\\grabcut.py:104: RuntimeWarning: divide by zero encountered in log\n",
      "  single_to_many_update(self.source, pr_nodes, -np.log(bg_scores))\n"
     ]
    },
    {
     "name": "stdout",
     "output_type": "stream",
     "text": [
      "||grabcut ENDED in 8.87 sec||\n",
      "||grabcut STARTED||\n",
      "Number of iterations: 1\n"
     ]
    },
    {
     "name": "stderr",
     "output_type": "stream",
     "text": [
      "\\\\wsl$\\Ubuntu-20.04\\home\\therojjha\\repos\\Grabcut-Revisited\\gmm.py:24: RuntimeWarning: overflow encountered in exp\n",
      "  score = np.exp(-Σ/2) / (np.sqrt(2 * np.pi * np.linalg.det(self.covariance[c_i])))\n",
      "\\\\wsl$\\Ubuntu-20.04\\home\\therojjha\\repos\\Grabcut-Revisited\\gmm.py:24: RuntimeWarning: overflow encountered in true_divide\n",
      "  score = np.exp(-Σ/2) / (np.sqrt(2 * np.pi * np.linalg.det(self.covariance[c_i])))\n",
      "\\\\wsl$\\Ubuntu-20.04\\home\\therojjha\\repos\\Grabcut-Revisited\\grabcut.py:104: RuntimeWarning: divide by zero encountered in log\n",
      "  single_to_many_update(self.source, pr_nodes, -np.log(bg_scores))\n"
     ]
    },
    {
     "name": "stdout",
     "output_type": "stream",
     "text": [
      "||grabcut ENDED in 9.34 sec||\n"
     ]
    }
   ],
   "source": [
    "for gmm in num_gmm_components:\n",
    "    constants.GMM_COMPONENTS = gmm\n",
    "    print(f\"Number of components in GMM: {gmm}\")\n",
    "    sim(images[1])"
   ]
  },
  {
   "cell_type": "code",
   "execution_count": 7,
   "metadata": {},
   "outputs": [
    {
     "name": "stdout",
     "output_type": "stream",
     "text": [
      "Number of components in GMM: 1\n",
      "||grabcut STARTED||\n",
      "Number of iterations: 1\n",
      "||grabcut ENDED in 2.93 sec||\n",
      "Number of components in GMM: 3\n",
      "||grabcut STARTED||\n",
      "Number of iterations: 1\n",
      "||grabcut ENDED in 3.39 sec||\n",
      "Number of components in GMM: 5\n",
      "||grabcut STARTED||\n",
      "Number of iterations: 1\n",
      "||grabcut ENDED in 3.02 sec||\n",
      "Number of components in GMM: 7\n",
      "||grabcut STARTED||\n",
      "Number of iterations: 1\n",
      "||grabcut ENDED in 3.16 sec||\n",
      "Number of components in GMM: 10\n",
      "||grabcut STARTED||\n",
      "Number of iterations: 1\n",
      "||grabcut ENDED in 3.54 sec||\n",
      "Number of components in GMM: 15\n",
      "||grabcut STARTED||\n",
      "Number of iterations: 1\n",
      "||grabcut ENDED in 4.37 sec||\n"
     ]
    }
   ],
   "source": [
    "for gmm in num_gmm_components:\n",
    "    constants.GMM_COMPONENTS = gmm\n",
    "    print(f\"Number of components in GMM: {gmm}\")\n",
    "    sim(images[-2])"
   ]
  }
 ],
 "metadata": {
  "kernelspec": {
   "display_name": "Python 3 (ipykernel)",
   "language": "python",
   "name": "python3"
  },
  "language_info": {
   "codemirror_mode": {
    "name": "ipython",
    "version": 3
   },
   "file_extension": ".py",
   "mimetype": "text/x-python",
   "name": "python",
   "nbconvert_exporter": "python",
   "pygments_lexer": "ipython3",
   "version": "3.8.1"
  }
 },
 "nbformat": 4,
 "nbformat_minor": 1
}
